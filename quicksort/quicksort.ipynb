{
 "cells": [
  {
   "cell_type": "markdown",
   "metadata": {},
   "source": [
    "## Iterative (non-recursive) QuickSort"
   ]
  },
  {
   "cell_type": "markdown",
   "metadata": {},
   "source": [
    "#### Complexity\n",
    "\n",
    "**Iterative vs recursive**\n",
    "In terms of (asymptotic) time complexity - they are both the same.\n",
    "\n",
    "| Time Complexity  | Space Complexity   |\n",
    "| ---------------- | ------------------ |\n",
    "| **Best case** O(n log n)  | O(log n)  |\n",
    "| **Worst case** O(n2)      | -         |"
   ]
  },
  {
   "cell_type": "code",
   "execution_count": 1,
   "metadata": {},
   "outputs": [],
   "source": [
    "class stack(list):\n",
    "    push = list.append\n",
    "\n",
    "\n",
    "def quicksort(items):\n",
    "    nItems = len(items)\n",
    "    if nItems < 2:\n",
    "        return items\n",
    "    todo = stack([(0, nItems - 1)])\n",
    "    while todo:\n",
    "        elem_idx, pivot_idx = low, high = todo.pop()\n",
    "        elem = items[elem_idx]\n",
    "        pivot = items[pivot_idx]\n",
    "        while pivot_idx > elem_idx:\n",
    "            if elem > pivot:\n",
    "                items[pivot_idx] = elem\n",
    "                pivot_idx -= 1\n",
    "                items[elem_idx] = elem = items[pivot_idx]\n",
    "            else:\n",
    "                elem_idx += 1\n",
    "                elem = items[elem_idx]\n",
    "        items[pivot_idx] = pivot\n",
    "\n",
    "        lsize = pivot_idx - low\n",
    "        hsize = high - pivot_idx\n",
    "        if lsize <= hsize:\n",
    "            if 1 < lsize:\n",
    "                todo.push((pivot_idx + 1, high))\n",
    "                todo.push((low, pivot_idx - 1))\n",
    "        else:\n",
    "            todo.push((low, pivot_idx - 1))\n",
    "        if 1 < hsize:\n",
    "            todo.push((pivot_idx + 1, high))\n",
    "    return items"
   ]
  },
  {
   "cell_type": "code",
   "execution_count": null,
   "metadata": {},
   "outputs": [],
   "source": []
  }
 ],
 "metadata": {
  "kernelspec": {
   "display_name": "Python 3",
   "language": "python",
   "name": "python3"
  },
  "language_info": {
   "codemirror_mode": {
    "name": "ipython",
    "version": 3
   },
   "file_extension": ".py",
   "mimetype": "text/x-python",
   "name": "python",
   "nbconvert_exporter": "python",
   "pygments_lexer": "ipython3",
   "version": "3.5.3"
  }
 },
 "nbformat": 4,
 "nbformat_minor": 2
}
